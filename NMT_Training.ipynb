{
 "cells": [
  {
   "cell_type": "markdown",
   "metadata": {},
   "source": [
    "# Train Neural Translation Model\n",
    "\n",
    "This involves both loading and preparing the clean text data ready for modeling and defining and training the model on the prepared data."
   ]
  },
  {
   "cell_type": "code",
   "execution_count": 1,
   "metadata": {},
   "outputs": [],
   "source": [
    "#import libraries\n",
    "from pickle import load\n",
    "from numpy import array"
   ]
  },
  {
   "cell_type": "code",
   "execution_count": 2,
   "metadata": {},
   "outputs": [],
   "source": [
    "# load a clean dataset\n",
    "def load_clean_sentences(fname):\n",
    "    return load(open(fname, 'rb'))"
   ]
  },
  {
   "cell_type": "code",
   "execution_count": 3,
   "metadata": {},
   "outputs": [],
   "source": [
    "# load datasets\n",
    "dataset = load_clean_sentences('english-german-both.pkl')\n",
    "train = load_clean_sentences('english-german-train.pkl')\n",
    "test = load_clean_sentences('english-german-test.pkl')"
   ]
  },
  {
   "cell_type": "code",
   "execution_count": 4,
   "metadata": {},
   "outputs": [
    {
     "data": {
      "text/plain": [
       "array([['im helping you', 'ich helfe dir'],\n",
       "       ['it wasnt ours', 'es war nicht unseres'],\n",
       "       ['tom walked into the bar', 'tom ging in die kneipe'],\n",
       "       ['he has an eye for art', 'er hat einen blick fur kunst'],\n",
       "       ['do you use aftershave', 'benutzen sie aftershave'],\n",
       "       ['i said drop your weapon', 'ich sagte lassen sie die waffe fallen'],\n",
       "       ['ill stop by later', 'ich komme spater vorbei'],\n",
       "       ['do you happen to know tom', 'kennen sie zufalligerweise tom'],\n",
       "       ['he sketched an apple', 'er zeichnete einen apfel'],\n",
       "       ['tom has ocd', 'tom leidet an einer zwangserkrankung']],\n",
       "      dtype='<U370')"
      ]
     },
     "execution_count": 4,
     "metadata": {},
     "output_type": "execute_result"
    }
   ],
   "source": [
    "dataset[0:10]"
   ]
  },
  {
   "cell_type": "markdown",
   "metadata": {},
   "source": [
    "I'm using combination of the train and test datasets to define the maximum length and vocabulary of the problem.\n",
    "\n",
    "We can use the Keras Tokenize class to map words to integers, as needed for modeling. We will use separate tokenizer for the English sequences and the German sequences. "
   ]
  },
  {
   "cell_type": "code",
   "execution_count": 5,
   "metadata": {},
   "outputs": [
    {
     "name": "stderr",
     "output_type": "stream",
     "text": [
      "Using TensorFlow backend.\n"
     ]
    }
   ],
   "source": [
    "# import libraries\n",
    "from keras.preprocessing.text import Tokenizer\n",
    "from keras.preprocessing.sequence import pad_sequences\n",
    "from keras.utils import to_categorical\n",
    "from keras.utils.vis_utils import plot_model\n",
    "from keras.models import Sequential\n",
    "from keras.layers import LSTM\n",
    "from keras.layers import Dense\n",
    "from keras.layers import Embedding\n",
    "from keras.layers import RepeatVector\n",
    "from keras.layers import TimeDistributed\n",
    "from keras.callbacks import ModelCheckpoint"
   ]
  },
  {
   "cell_type": "code",
   "execution_count": 6,
   "metadata": {},
   "outputs": [],
   "source": [
    "# fit a tokenizer\n",
    "def create_tokenizer(lines):\n",
    "    tokenizer = Tokenizer()\n",
    "    tokenizer.fit_on_texts(lines)\n",
    "    return tokenizer"
   ]
  },
  {
   "cell_type": "code",
   "execution_count": 7,
   "metadata": {},
   "outputs": [],
   "source": [
    "# find the length of the longest sequence in a list of phrases.\n",
    "def max_length(lines):\n",
    "    return max(len(line.split()) for line in lines)"
   ]
  },
  {
   "cell_type": "code",
   "execution_count": 8,
   "metadata": {},
   "outputs": [
    {
     "name": "stdout",
     "output_type": "stream",
     "text": [
      "English Vocabulary Size: 3580\n",
      "English Max Length: 8\n"
     ]
    }
   ],
   "source": [
    "# prepare english tokenizer\n",
    "eng_tokenizer = create_tokenizer(dataset[:, 0])\n",
    "eng_vocab_size = len(eng_tokenizer.word_index) + 1\n",
    "eng_length = max_length(dataset[:, 0])\n",
    "print('English Vocabulary Size: %d' % eng_vocab_size)\n",
    "print('English Max Length: %d' % (eng_length))"
   ]
  },
  {
   "cell_type": "code",
   "execution_count": 9,
   "metadata": {},
   "outputs": [
    {
     "name": "stdout",
     "output_type": "stream",
     "text": [
      "German Vocabulary Size: 5237\n",
      "German Max Length: 10\n"
     ]
    }
   ],
   "source": [
    "# prepare german tokenizer\n",
    "ger_tokenizer = create_tokenizer(dataset[:, 1])\n",
    "ger_vocab_size = len(ger_tokenizer.word_index) + 1\n",
    "ger_length = max_length(dataset[:, 1])\n",
    "print('German Vocabulary Size: %d' % ger_vocab_size)\n",
    "print('German Max Length: %d' % (ger_length))"
   ]
  },
  {
   "cell_type": "markdown",
   "metadata": {},
   "source": [
    "Each input and output sequence must be encoded to integers and padded to the maximum phrase length. This is because we will use a word embedding for the input sequences and one hot encode the output sequences"
   ]
  },
  {
   "cell_type": "code",
   "execution_count": 10,
   "metadata": {},
   "outputs": [],
   "source": [
    "# encode and pad sequences\n",
    "def encode_sequences(tokenizer, length, lines):\n",
    "    # integer encode sequences\n",
    "    X = tokenizer.texts_to_sequences(lines)\n",
    "    # pad sequences with 0 values\n",
    "    X = pad_sequences(X, maxlen=length, padding='post')\n",
    "    return X"
   ]
  },
  {
   "cell_type": "markdown",
   "metadata": {},
   "source": [
    "The output sequence needs to be one-hot encoded. This is because the model will predict the probability of each word in the vocabulary as output"
   ]
  },
  {
   "cell_type": "code",
   "execution_count": 11,
   "metadata": {},
   "outputs": [],
   "source": [
    "# one hot encode target sequence\n",
    "def encode_output(sequences, vocab_size):\n",
    "    ylist = list()\n",
    "    for sequence in sequences:\n",
    "        encoded = to_categorical(sequence, num_classes=vocab_size)\n",
    "        ylist.append(encoded)\n",
    "    y = array(ylist)\n",
    "    y = y.reshape(sequences.shape[0], sequences.shape[1], vocab_size)\n",
    "    return y"
   ]
  },
  {
   "cell_type": "code",
   "execution_count": 12,
   "metadata": {},
   "outputs": [],
   "source": [
    "# prepare training data\n",
    "trainX = encode_sequences(ger_tokenizer, ger_length, train[:, 1])\n",
    "trainY = encode_sequences(eng_tokenizer, eng_length, train[:, 0])\n",
    "trainY = encode_output(trainY, eng_vocab_size)"
   ]
  },
  {
   "cell_type": "code",
   "execution_count": 13,
   "metadata": {},
   "outputs": [],
   "source": [
    "# prepare validation data\n",
    "testX = encode_sequences(ger_tokenizer, ger_length, test[:, 1])\n",
    "testY = encode_sequences(eng_tokenizer, eng_length, test[:, 0])\n",
    "testY = encode_output(testY, eng_vocab_size)"
   ]
  },
  {
   "cell_type": "markdown",
   "metadata": {},
   "source": [
    "We will use an encoder-decoder LSTM model on this problem. In this architecture, the input sequence is encoded by a front-end model called the encoder then decoded word by word by a backend model called the decoder.\n",
    "\n",
    "The function define_model() below defines the model and takes a number of arguments used to configure the model, such as the size of the input and output vocabularies, the maximum length of input and output phrases, and the number of memory units used to configure the model.\n",
    "\n",
    "The model is trained using the efficient Adam approach to stochastic gradient descent and minimizes the categorical loss function because we have framed the prediction problem as multi-class classification."
   ]
  },
  {
   "cell_type": "code",
   "execution_count": 14,
   "metadata": {},
   "outputs": [],
   "source": [
    "# define NMT model\n",
    "def define_model(src_vocab, tar_vocab, src_timesteps, tar_timesteps, n_units):\n",
    "    model = Sequential()\n",
    "    model.add(Embedding(src_vocab, n_units, input_length=src_timesteps, mask_zero=True))\n",
    "    model.add(LSTM(n_units))\n",
    "    model.add(RepeatVector(tar_timesteps))\n",
    "    model.add(LSTM(n_units, return_sequences=True))\n",
    "    model.add(TimeDistributed(Dense(tar_vocab, activation='softmax')))\n",
    "    return model\n"
   ]
  },
  {
   "cell_type": "code",
   "execution_count": 16,
   "metadata": {},
   "outputs": [
    {
     "name": "stdout",
     "output_type": "stream",
     "text": [
      "_________________________________________________________________\n",
      "Layer (type)                 Output Shape              Param #   \n",
      "=================================================================\n",
      "embedding_2 (Embedding)      (None, 10, 256)           1340672   \n",
      "_________________________________________________________________\n",
      "lstm_3 (LSTM)                (None, 256)               525312    \n",
      "_________________________________________________________________\n",
      "repeat_vector_2 (RepeatVecto (None, 8, 256)            0         \n",
      "_________________________________________________________________\n",
      "lstm_4 (LSTM)                (None, 8, 256)            525312    \n",
      "_________________________________________________________________\n",
      "time_distributed_2 (TimeDist (None, 8, 3580)           920060    \n",
      "=================================================================\n",
      "Total params: 3,311,356\n",
      "Trainable params: 3,311,356\n",
      "Non-trainable params: 0\n",
      "_________________________________________________________________\n",
      "None\n"
     ]
    }
   ],
   "source": [
    "# define model\n",
    "model = define_model(ger_vocab_size, eng_vocab_size, ger_length, eng_length, 256)\n",
    "model.compile(optimizer='adam', loss='categorical_crossentropy')\n",
    "\n",
    "# summarize defined model\n",
    "print(model.summary())\n",
    "# plot_model(model, to_file='model.png', show_shapes=True)"
   ]
  },
  {
   "cell_type": "code",
   "execution_count": 18,
   "metadata": {},
   "outputs": [
    {
     "name": "stdout",
     "output_type": "stream",
     "text": [
      "Train on 9000 samples, validate on 1000 samples\n",
      "Epoch 1/50\n",
      "Epoch 00001: val_loss improved from inf to 2.48823, saving model to model.h5\n",
      " - 21s - loss: 0.9200 - val_loss: 2.4882\n",
      "Epoch 2/50\n",
      "Epoch 00002: val_loss improved from 2.48823 to 2.48455, saving model to model.h5\n",
      " - 19s - loss: 0.8562 - val_loss: 2.4845\n",
      "Epoch 3/50\n",
      "Epoch 00003: val_loss improved from 2.48455 to 2.47814, saving model to model.h5\n",
      " - 19s - loss: 0.7976 - val_loss: 2.4781\n",
      "Epoch 4/50\n",
      "Epoch 00004: val_loss did not improve\n",
      " - 19s - loss: 0.7435 - val_loss: 2.4984\n",
      "Epoch 5/50\n",
      "Epoch 00005: val_loss did not improve\n",
      " - 19s - loss: 0.6902 - val_loss: 2.5166\n",
      "Epoch 6/50\n",
      "Epoch 00006: val_loss did not improve\n",
      " - 19s - loss: 0.6424 - val_loss: 2.5212\n",
      "Epoch 7/50\n",
      "Epoch 00007: val_loss did not improve\n",
      " - 19s - loss: 0.5970 - val_loss: 2.5197\n",
      "Epoch 8/50\n",
      "Epoch 00008: val_loss did not improve\n",
      " - 19s - loss: 0.5538 - val_loss: 2.5340\n",
      "Epoch 9/50\n",
      "Epoch 00009: val_loss did not improve\n",
      " - 19s - loss: 0.5123 - val_loss: 2.5376\n",
      "Epoch 10/50\n",
      "Epoch 00010: val_loss did not improve\n",
      " - 19s - loss: 0.4783 - val_loss: 2.5566\n",
      "Epoch 11/50\n",
      "Epoch 00011: val_loss did not improve\n",
      " - 19s - loss: 0.4389 - val_loss: 2.5554\n",
      "Epoch 12/50\n",
      "Epoch 00012: val_loss did not improve\n",
      " - 19s - loss: 0.4071 - val_loss: 2.5635\n",
      "Epoch 13/50\n",
      "Epoch 00013: val_loss did not improve\n",
      " - 19s - loss: 0.3764 - val_loss: 2.5773\n",
      "Epoch 14/50\n",
      "Epoch 00014: val_loss did not improve\n",
      " - 19s - loss: 0.3444 - val_loss: 2.6130\n",
      "Epoch 15/50\n",
      "Epoch 00015: val_loss did not improve\n",
      " - 20s - loss: 0.3203 - val_loss: 2.6107\n",
      "Epoch 16/50\n",
      "Epoch 00016: val_loss did not improve\n",
      " - 19s - loss: 0.2955 - val_loss: 2.6331\n",
      "Epoch 17/50\n",
      "Epoch 00017: val_loss did not improve\n",
      " - 19s - loss: 0.2734 - val_loss: 2.6464\n",
      "Epoch 18/50\n",
      "Epoch 00018: val_loss did not improve\n",
      " - 19s - loss: 0.2531 - val_loss: 2.6526\n",
      "Epoch 19/50\n",
      "Epoch 00019: val_loss did not improve\n",
      " - 19s - loss: 0.2325 - val_loss: 2.6647\n",
      "Epoch 20/50\n",
      "Epoch 00020: val_loss did not improve\n",
      " - 19s - loss: 0.2132 - val_loss: 2.6767\n",
      "Epoch 21/50\n",
      "Epoch 00021: val_loss did not improve\n",
      " - 19s - loss: 0.1968 - val_loss: 2.7003\n",
      "Epoch 22/50\n",
      "Epoch 00022: val_loss did not improve\n",
      " - 20s - loss: 0.1825 - val_loss: 2.7158\n",
      "Epoch 23/50\n",
      "Epoch 00023: val_loss did not improve\n",
      " - 19s - loss: 0.1712 - val_loss: 2.7263\n",
      "Epoch 24/50\n",
      "Epoch 00024: val_loss did not improve\n",
      " - 19s - loss: 0.1592 - val_loss: 2.7337\n",
      "Epoch 25/50\n",
      "Epoch 00025: val_loss did not improve\n",
      " - 19s - loss: 0.1455 - val_loss: 2.7512\n",
      "Epoch 26/50\n",
      "Epoch 00026: val_loss did not improve\n",
      " - 35s - loss: 0.1304 - val_loss: 2.7798\n",
      "Epoch 27/50\n",
      "Epoch 00027: val_loss did not improve\n",
      " - 38s - loss: 0.1205 - val_loss: 2.7779\n",
      "Epoch 28/50\n",
      "Epoch 00028: val_loss did not improve\n",
      " - 37s - loss: 0.1125 - val_loss: 2.7975\n",
      "Epoch 29/50\n",
      "Epoch 00029: val_loss did not improve\n",
      " - 38s - loss: 0.1071 - val_loss: 2.7947\n",
      "Epoch 30/50\n",
      "Epoch 00030: val_loss did not improve\n",
      " - 39s - loss: 0.1017 - val_loss: 2.8095\n",
      "Epoch 31/50\n",
      "Epoch 00031: val_loss did not improve\n",
      " - 39s - loss: 0.0905 - val_loss: 2.8299\n",
      "Epoch 32/50\n",
      "Epoch 00032: val_loss did not improve\n",
      " - 39s - loss: 0.0842 - val_loss: 2.8330\n",
      "Epoch 33/50\n",
      "Epoch 00033: val_loss did not improve\n",
      " - 19s - loss: 0.0814 - val_loss: 2.8552\n",
      "Epoch 34/50\n",
      "Epoch 00034: val_loss did not improve\n",
      " - 19s - loss: 0.0770 - val_loss: 2.8343\n",
      "Epoch 35/50\n",
      "Epoch 00035: val_loss did not improve\n",
      " - 19s - loss: 0.0795 - val_loss: 2.8550\n",
      "Epoch 36/50\n",
      "Epoch 00036: val_loss did not improve\n",
      " - 19s - loss: 0.0775 - val_loss: 2.8746\n",
      "Epoch 37/50\n",
      "Epoch 00037: val_loss did not improve\n",
      " - 19s - loss: 0.0725 - val_loss: 2.8931\n",
      "Epoch 38/50\n",
      "Epoch 00038: val_loss did not improve\n",
      " - 19s - loss: 0.0685 - val_loss: 2.8988\n",
      "Epoch 39/50\n",
      "Epoch 00039: val_loss did not improve\n",
      " - 19s - loss: 0.0612 - val_loss: 2.8954\n",
      "Epoch 40/50\n",
      "Epoch 00040: val_loss did not improve\n",
      " - 19s - loss: 0.0523 - val_loss: 2.9057\n",
      "Epoch 41/50\n",
      "Epoch 00041: val_loss did not improve\n",
      " - 19s - loss: 0.0450 - val_loss: 2.9127\n",
      "Epoch 42/50\n",
      "Epoch 00042: val_loss did not improve\n",
      " - 20s - loss: 0.0412 - val_loss: 2.9193\n",
      "Epoch 43/50\n",
      "Epoch 00043: val_loss did not improve\n",
      " - 19s - loss: 0.0395 - val_loss: 2.9243\n",
      "Epoch 44/50\n",
      "Epoch 00044: val_loss did not improve\n",
      " - 19s - loss: 0.0378 - val_loss: 2.9513\n",
      "Epoch 45/50\n",
      "Epoch 00045: val_loss did not improve\n",
      " - 19s - loss: 0.0375 - val_loss: 2.9597\n",
      "Epoch 46/50\n",
      "Epoch 00046: val_loss did not improve\n",
      " - 19s - loss: 0.0360 - val_loss: 2.9684\n",
      "Epoch 47/50\n",
      "Epoch 00047: val_loss did not improve\n",
      " - 19s - loss: 0.0366 - val_loss: 2.9708\n",
      "Epoch 48/50\n",
      "Epoch 00048: val_loss did not improve\n",
      " - 19s - loss: 0.0413 - val_loss: 2.9847\n",
      "Epoch 49/50\n",
      "Epoch 00049: val_loss did not improve\n",
      " - 19s - loss: 0.0747 - val_loss: 2.9869\n",
      "Epoch 50/50\n",
      "Epoch 00050: val_loss did not improve\n",
      " - 19s - loss: 0.1400 - val_loss: 2.9949\n"
     ]
    },
    {
     "data": {
      "text/plain": [
       "<keras.callbacks.History at 0x202950afda0>"
      ]
     },
     "execution_count": 18,
     "metadata": {},
     "output_type": "execute_result"
    }
   ],
   "source": [
    "# fit model\n",
    "filename = 'model.h5'\n",
    "checkpoint = ModelCheckpoint(filename, monitor='val_loss', verbose=1, \n",
    "                             save_best_only=True, mode='min')\n",
    "model.fit(trainX, trainY, epochs=50, batch_size=64, \n",
    "          validation_data=(testX, testY), callbacks=[checkpoint], verbose=2)"
   ]
  },
  {
   "cell_type": "code",
   "execution_count": null,
   "metadata": {},
   "outputs": [],
   "source": [
    " "
   ]
  }
 ],
 "metadata": {
  "kernelspec": {
   "display_name": "Python 3",
   "language": "python",
   "name": "python3"
  },
  "language_info": {
   "codemirror_mode": {
    "name": "ipython",
    "version": 3
   },
   "file_extension": ".py",
   "mimetype": "text/x-python",
   "name": "python",
   "nbconvert_exporter": "python",
   "pygments_lexer": "ipython3",
   "version": "3.5.2"
  }
 },
 "nbformat": 4,
 "nbformat_minor": 2
}
